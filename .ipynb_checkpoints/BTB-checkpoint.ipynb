{
 "cells": [
  {
   "cell_type": "markdown",
   "metadata": {
    "slideshow": {
     "slide_type": "slide"
    }
   },
   "source": [
    "# Who is gonna be the winner of the next Ballon D'or 2019?"
   ]
  },
  {
   "cell_type": "markdown",
   "metadata": {
    "slideshow": {
     "slide_type": "subslide"
    }
   },
   "source": [
    "In this project the objective is to predict the player, based on his historical stat info fromm FIFA video games, who have more chances to win the competiton."
   ]
  },
  {
   "cell_type": "markdown",
   "metadata": {},
   "source": [
    "## First, we will analyze the 'winning criteria' of the former winners of the last 4 editions of the competition:"
   ]
  },
  {
   "cell_type": "code",
   "execution_count": 1,
   "metadata": {},
   "outputs": [],
   "source": [
    "import pandas as pd \n",
    "import numpy as np\n",
    "import matplotlib as plt"
   ]
  },
  {
   "cell_type": "code",
   "execution_count": 2,
   "metadata": {},
   "outputs": [
    {
     "data": {
      "text/html": [
       "<div>\n",
       "<style scoped>\n",
       "    .dataframe tbody tr th:only-of-type {\n",
       "        vertical-align: middle;\n",
       "    }\n",
       "\n",
       "    .dataframe tbody tr th {\n",
       "        vertical-align: top;\n",
       "    }\n",
       "\n",
       "    .dataframe thead th {\n",
       "        text-align: right;\n",
       "    }\n",
       "</style>\n",
       "<table border=\"1\" class=\"dataframe\">\n",
       "  <thead>\n",
       "    <tr style=\"text-align: right;\">\n",
       "      <th></th>\n",
       "      <th>short_name</th>\n",
       "      <th>age</th>\n",
       "      <th>overall</th>\n",
       "      <th>potential</th>\n",
       "      <th>international_reputation</th>\n",
       "      <th>skill_moves</th>\n",
       "      <th>pace</th>\n",
       "      <th>shooting</th>\n",
       "      <th>passing</th>\n",
       "      <th>dribbling</th>\n",
       "      <th>defending</th>\n",
       "      <th>physic</th>\n",
       "    </tr>\n",
       "  </thead>\n",
       "  <tbody>\n",
       "    <tr>\n",
       "      <th>0</th>\n",
       "      <td>Cristiano Ronaldo</td>\n",
       "      <td>33</td>\n",
       "      <td>94</td>\n",
       "      <td>94</td>\n",
       "      <td>5</td>\n",
       "      <td>5</td>\n",
       "      <td>90.0</td>\n",
       "      <td>93.0</td>\n",
       "      <td>81.0</td>\n",
       "      <td>89.0</td>\n",
       "      <td>35.0</td>\n",
       "      <td>79.0</td>\n",
       "    </tr>\n",
       "    <tr>\n",
       "      <th>1</th>\n",
       "      <td>L. Messi</td>\n",
       "      <td>31</td>\n",
       "      <td>94</td>\n",
       "      <td>94</td>\n",
       "      <td>5</td>\n",
       "      <td>4</td>\n",
       "      <td>88.0</td>\n",
       "      <td>91.0</td>\n",
       "      <td>88.0</td>\n",
       "      <td>96.0</td>\n",
       "      <td>32.0</td>\n",
       "      <td>61.0</td>\n",
       "    </tr>\n",
       "    <tr>\n",
       "      <th>2</th>\n",
       "      <td>Neymar Jr</td>\n",
       "      <td>26</td>\n",
       "      <td>92</td>\n",
       "      <td>93</td>\n",
       "      <td>5</td>\n",
       "      <td>5</td>\n",
       "      <td>92.0</td>\n",
       "      <td>84.0</td>\n",
       "      <td>83.0</td>\n",
       "      <td>95.0</td>\n",
       "      <td>32.0</td>\n",
       "      <td>59.0</td>\n",
       "    </tr>\n",
       "    <tr>\n",
       "      <th>3</th>\n",
       "      <td>De Gea</td>\n",
       "      <td>27</td>\n",
       "      <td>91</td>\n",
       "      <td>93</td>\n",
       "      <td>4</td>\n",
       "      <td>1</td>\n",
       "      <td>NaN</td>\n",
       "      <td>NaN</td>\n",
       "      <td>NaN</td>\n",
       "      <td>NaN</td>\n",
       "      <td>NaN</td>\n",
       "      <td>NaN</td>\n",
       "    </tr>\n",
       "    <tr>\n",
       "      <th>4</th>\n",
       "      <td>K. De Bruyne</td>\n",
       "      <td>27</td>\n",
       "      <td>91</td>\n",
       "      <td>92</td>\n",
       "      <td>4</td>\n",
       "      <td>4</td>\n",
       "      <td>77.0</td>\n",
       "      <td>86.0</td>\n",
       "      <td>92.0</td>\n",
       "      <td>87.0</td>\n",
       "      <td>60.0</td>\n",
       "      <td>78.0</td>\n",
       "    </tr>\n",
       "  </tbody>\n",
       "</table>\n",
       "</div>"
      ],
      "text/plain": [
       "          short_name  age  overall  potential  international_reputation  \\\n",
       "0  Cristiano Ronaldo   33       94         94                         5   \n",
       "1           L. Messi   31       94         94                         5   \n",
       "2          Neymar Jr   26       92         93                         5   \n",
       "3             De Gea   27       91         93                         4   \n",
       "4       K. De Bruyne   27       91         92                         4   \n",
       "\n",
       "   skill_moves  pace  shooting  passing  dribbling  defending  physic  \n",
       "0            5  90.0      93.0     81.0       89.0       35.0    79.0  \n",
       "1            4  88.0      91.0     88.0       96.0       32.0    61.0  \n",
       "2            5  92.0      84.0     83.0       95.0       32.0    59.0  \n",
       "3            1   NaN       NaN      NaN        NaN        NaN     NaN  \n",
       "4            4  77.0      86.0     92.0       87.0       60.0    78.0  "
      ]
     },
     "execution_count": 2,
     "metadata": {},
     "output_type": "execute_result"
    }
   ],
   "source": [
    "#First we call the CSV files:#\n",
    "fifa_stats_2019_df=pd.read_csv(\"datasets/players_19.csv\",usecols = [2,4,10,11,16,18,31,32,33,34,35,36])\n",
    "fifa_stats_2019_df.head()"
   ]
  },
  {
   "cell_type": "code",
   "execution_count": 10,
   "metadata": {},
   "outputs": [
    {
     "name": "stdout",
     "output_type": "stream",
     "text": [
      "['datasets/players_20.csv', 'datasets/players_18.csv', 'datasets/players_19.csv', 'datasets/players_17.csv', 'datasets/players_16.csv', 'datasets/players_15.csv', 'datasets/teams_and_leagues.csv']\n"
     ]
    }
   ],
   "source": [
    "#FUNCTION TO OBTAIN THE DIRECTORY OF EACH FILE\n",
    "import glob\n",
    "files = glob.glob('datasets/*.csv')\n",
    "print(files)"
   ]
  },
  {
   "cell_type": "code",
   "execution_count": 11,
   "metadata": {},
   "outputs": [
    {
     "name": "stdout",
     "output_type": "stream",
     "text": [
      "datasets/players_20.csv\n",
      "datasets/players_18.csv\n",
      "datasets/players_19.csv\n",
      "datasets/players_17.csv\n",
      "datasets/players_16.csv\n",
      "datasets/players_15.csv\n",
      "datasets/teams_and_leagues.csv\n"
     ]
    }
   ],
   "source": [
    "for f in files:\n",
    "   print(f)"
   ]
  },
  {
   "cell_type": "markdown",
   "metadata": {},
   "source": [
    "## With the datasets we made a proposal to select certain \"inputs\", that determine the performance of each player:\n"
   ]
  },
  {
   "cell_type": "markdown",
   "metadata": {},
   "source": [
    " - Name (short_name)\n",
    " \n",
    " \n",
    " - Age (age)\n",
    " \n",
    " \n",
    " - Effectivity (overall):  is the average of the key Player Attributes rates of a player within their Potential rate calculated based on their position and international reputation. The OVR rating of a player determines their general performance quality and their value in FIFA. (Score (0-100))\n",
    " \n",
    " \n",
    " - Potential (potential): Player’s response to the multiple environmental interactions and stimuli that are presented day by day (Score (0-100))\n",
    " \n",
    " \n",
    " - Reputation (international_reputation): (Score(1-5))\n",
    " \n",
    " \n",
    " - Skills (skill_moves): Act or task that has a goal to achieve and requires voluntary body or limb movement to be properly performed(Score(1-5))\n",
    " \n",
    " \n",
    " - Pace (pace): Player Attribute in FIFA that determines a player’s speed in walking and running (Score (0-100))\n",
    " \n",
    " \n",
    " - Shooting (shooting): is a Player Attribute in FIFA that determines a player’s general shooting strength and accuracy (Score (0-100))\n",
    " \n",
    " - Passing (passing): Is a Player Attribute in FIFA that determines how accurate a player passes the ball to a teammate (Score (0-100))\n",
    " \n",
    " \n",
    " - Dribbling (dribbling): Is a Player Attribute in FIFA that determines a player’s ability to carry the ball and past an opponent while being in control (Score (0-100))\n",
    " \n",
    " \n",
    " - Defending (defending): Is a Player Attribute in FIFA that determines a player’s ability to defend. (Score (0-100))\n",
    " \n",
    " \n",
    " - Physic (physic): also knows as Physicality, is a Player Attribute in FIFA that represents the physical and body status of a player. Players with high PHY rating, are able to win the physical battles on the pitch and maintain their fitness throughout a full match (Score (0-100))"
   ]
  },
  {
   "cell_type": "markdown",
   "metadata": {},
   "source": [
    "## We start cleaning the data frames, by filtering with the correspondant nominees of each year:"
   ]
  },
  {
   "cell_type": "code",
   "execution_count": null,
   "metadata": {},
   "outputs": [],
   "source": [
    "data_2015_cleaned_df=\n",
    "data_2016_cleaned_df=\n",
    "data_2017_cleaned_df=\n",
    "data_2018_cleaned_df=\n",
    "data_2019_cleaned_df="
   ]
  }
 ],
 "metadata": {
  "kernelspec": {
   "display_name": "Python 3",
   "language": "python",
   "name": "python3"
  },
  "language_info": {
   "codemirror_mode": {
    "name": "ipython",
    "version": 3
   },
   "file_extension": ".py",
   "mimetype": "text/x-python",
   "name": "python",
   "nbconvert_exporter": "python",
   "pygments_lexer": "ipython3",
   "version": "3.7.3"
  }
 },
 "nbformat": 4,
 "nbformat_minor": 2
}
