{
 "cells": [
  {
   "cell_type": "markdown",
   "metadata": {
    "slideshow": {
     "slide_type": "slide"
    }
   },
   "source": [
    "# Predicting wages with multiple linear regression"
   ]
  },
  {
   "cell_type": "code",
   "execution_count": 1,
   "metadata": {},
   "outputs": [],
   "source": [
    "import pandas as pd \n",
    "import numpy as np\n",
    "import matplotlib.pyplot as plt\n",
    "%matplotlib inline"
   ]
  },
  {
   "cell_type": "code",
   "execution_count": 2,
   "metadata": {},
   "outputs": [],
   "source": [
    "from sklearn import linear_model\n",
    "from sklearn.preprocessing import PolynomialFeatures\n",
    "from sklearn.metrics import r2_score\n",
    "from sklearn.metrics import mean_squared_error"
   ]
  },
  {
   "cell_type": "markdown",
   "metadata": {},
   "source": [
    "# Data cleaning"
   ]
  },
  {
   "cell_type": "markdown",
   "metadata": {},
   "source": [
    "-We drop missing values\n",
    "\n",
    "-We consider only players that make more than 5000 eur at month\n",
    "\n",
    "-We rescale wages by taking its natural logarthim (common practice in labor economics for the estimation of wage equations)\n",
    "\n",
    "-We take age to the square as wages may incresse with age, reach a maximum, and then go down.\n",
    "\n",
    "-We write our clean data set under the name \"players_18_BTB\""
   ]
  },
  {
   "cell_type": "code",
   "execution_count": 3,
   "metadata": {},
   "outputs": [
    {
     "data": {
      "text/html": [
       "<div>\n",
       "<style scoped>\n",
       "    .dataframe tbody tr th:only-of-type {\n",
       "        vertical-align: middle;\n",
       "    }\n",
       "\n",
       "    .dataframe tbody tr th {\n",
       "        vertical-align: top;\n",
       "    }\n",
       "\n",
       "    .dataframe thead th {\n",
       "        text-align: right;\n",
       "    }\n",
       "</style>\n",
       "<table border=\"1\" class=\"dataframe\">\n",
       "  <thead>\n",
       "    <tr style=\"text-align: right;\">\n",
       "      <th></th>\n",
       "      <th>short_name</th>\n",
       "      <th>age</th>\n",
       "      <th>club</th>\n",
       "      <th>overall</th>\n",
       "      <th>potential</th>\n",
       "      <th>wage_eur</th>\n",
       "      <th>player_positions</th>\n",
       "      <th>international_reputation</th>\n",
       "      <th>skill_moves</th>\n",
       "      <th>pace</th>\n",
       "      <th>shooting</th>\n",
       "      <th>passing</th>\n",
       "      <th>dribbling</th>\n",
       "      <th>defending</th>\n",
       "      <th>physic</th>\n",
       "      <th>log_wage</th>\n",
       "      <th>age2</th>\n",
       "    </tr>\n",
       "  </thead>\n",
       "  <tbody>\n",
       "    <tr>\n",
       "      <th>0</th>\n",
       "      <td>Cristiano Ronaldo</td>\n",
       "      <td>32</td>\n",
       "      <td>Real Madrid</td>\n",
       "      <td>94</td>\n",
       "      <td>94</td>\n",
       "      <td>565000</td>\n",
       "      <td>LW, ST</td>\n",
       "      <td>5</td>\n",
       "      <td>5</td>\n",
       "      <td>90.0</td>\n",
       "      <td>93.0</td>\n",
       "      <td>82.0</td>\n",
       "      <td>90.0</td>\n",
       "      <td>33.0</td>\n",
       "      <td>80.0</td>\n",
       "      <td>13.244581</td>\n",
       "      <td>1024</td>\n",
       "    </tr>\n",
       "    <tr>\n",
       "      <th>1</th>\n",
       "      <td>L. Messi</td>\n",
       "      <td>30</td>\n",
       "      <td>FC Barcelona</td>\n",
       "      <td>93</td>\n",
       "      <td>93</td>\n",
       "      <td>565000</td>\n",
       "      <td>RW</td>\n",
       "      <td>5</td>\n",
       "      <td>4</td>\n",
       "      <td>89.0</td>\n",
       "      <td>90.0</td>\n",
       "      <td>86.0</td>\n",
       "      <td>96.0</td>\n",
       "      <td>26.0</td>\n",
       "      <td>61.0</td>\n",
       "      <td>13.244581</td>\n",
       "      <td>900</td>\n",
       "    </tr>\n",
       "    <tr>\n",
       "      <th>2</th>\n",
       "      <td>Neymar</td>\n",
       "      <td>25</td>\n",
       "      <td>Paris Saint-Germain</td>\n",
       "      <td>92</td>\n",
       "      <td>94</td>\n",
       "      <td>280000</td>\n",
       "      <td>LW</td>\n",
       "      <td>5</td>\n",
       "      <td>5</td>\n",
       "      <td>92.0</td>\n",
       "      <td>84.0</td>\n",
       "      <td>79.0</td>\n",
       "      <td>95.0</td>\n",
       "      <td>30.0</td>\n",
       "      <td>60.0</td>\n",
       "      <td>12.542545</td>\n",
       "      <td>625</td>\n",
       "    </tr>\n",
       "    <tr>\n",
       "      <th>3</th>\n",
       "      <td>L. Suárez</td>\n",
       "      <td>30</td>\n",
       "      <td>FC Barcelona</td>\n",
       "      <td>92</td>\n",
       "      <td>92</td>\n",
       "      <td>510000</td>\n",
       "      <td>ST</td>\n",
       "      <td>5</td>\n",
       "      <td>4</td>\n",
       "      <td>82.0</td>\n",
       "      <td>90.0</td>\n",
       "      <td>79.0</td>\n",
       "      <td>87.0</td>\n",
       "      <td>42.0</td>\n",
       "      <td>81.0</td>\n",
       "      <td>13.142166</td>\n",
       "      <td>900</td>\n",
       "    </tr>\n",
       "    <tr>\n",
       "      <th>4</th>\n",
       "      <td>R. Lewandowski</td>\n",
       "      <td>28</td>\n",
       "      <td>FC Bayern München</td>\n",
       "      <td>91</td>\n",
       "      <td>91</td>\n",
       "      <td>355000</td>\n",
       "      <td>ST</td>\n",
       "      <td>4</td>\n",
       "      <td>3</td>\n",
       "      <td>81.0</td>\n",
       "      <td>88.0</td>\n",
       "      <td>75.0</td>\n",
       "      <td>86.0</td>\n",
       "      <td>38.0</td>\n",
       "      <td>82.0</td>\n",
       "      <td>12.779873</td>\n",
       "      <td>784</td>\n",
       "    </tr>\n",
       "  </tbody>\n",
       "</table>\n",
       "</div>"
      ],
      "text/plain": [
       "          short_name  age                 club  overall  potential  wage_eur  \\\n",
       "0  Cristiano Ronaldo   32          Real Madrid       94         94    565000   \n",
       "1           L. Messi   30         FC Barcelona       93         93    565000   \n",
       "2             Neymar   25  Paris Saint-Germain       92         94    280000   \n",
       "3          L. Suárez   30         FC Barcelona       92         92    510000   \n",
       "4     R. Lewandowski   28    FC Bayern München       91         91    355000   \n",
       "\n",
       "  player_positions  international_reputation  skill_moves  pace  shooting  \\\n",
       "0           LW, ST                         5            5  90.0      93.0   \n",
       "1               RW                         5            4  89.0      90.0   \n",
       "2               LW                         5            5  92.0      84.0   \n",
       "3               ST                         5            4  82.0      90.0   \n",
       "4               ST                         4            3  81.0      88.0   \n",
       "\n",
       "   passing  dribbling  defending  physic   log_wage  age2  \n",
       "0     82.0       90.0       33.0    80.0  13.244581  1024  \n",
       "1     86.0       96.0       26.0    61.0  13.244581   900  \n",
       "2     79.0       95.0       30.0    60.0  12.542545   625  \n",
       "3     79.0       87.0       42.0    81.0  13.142166   900  \n",
       "4     75.0       86.0       38.0    82.0  12.779873   784  "
      ]
     },
     "execution_count": 3,
     "metadata": {},
     "output_type": "execute_result"
    }
   ],
   "source": [
    "fifa_2018_df=pd.read_csv(\"datasets/players_18.csv\",usecols = [2,4,9,10,11,13,14,16,18,31,32,33,34,35,36])\n",
    "fifa_2018_df=fifa_2018_df.dropna()\n",
    "fifa_2018_df=fifa_2018_df.loc[fifa_2018_df['wage_eur']>5000]\n",
    "fifa_2018_df['log_wage']=np.log(fifa_2018_df['wage_eur'])\n",
    "fifa_2018_df['age2']=np.power((fifa_2018_df['age']),2)\n",
    "fifa_2018_df = fifa_2018_df.reset_index(drop=True)\n",
    "fifa_2018_df.to_csv(r'datasets\\players_18_BTB.csv')\n",
    "fifa_2018_df.head()"
   ]
  },
  {
   "cell_type": "code",
   "execution_count": 4,
   "metadata": {},
   "outputs": [
    {
     "data": {
      "text/plain": [
       "6924"
      ]
     },
     "execution_count": 4,
     "metadata": {},
     "output_type": "execute_result"
    }
   ],
   "source": [
    "#Number of remaining observations\n",
    "len(fifa_2018_df.index)"
   ]
  },
  {
   "cell_type": "markdown",
   "metadata": {},
   "source": [
    "# Multiple linear regression"
   ]
  },
  {
   "cell_type": "code",
   "execution_count": 5,
   "metadata": {},
   "outputs": [
    {
     "name": "stdout",
     "output_type": "stream",
     "text": [
      "(6924, 12) (6924, 1)\n"
     ]
    }
   ],
   "source": [
    "# Assign the data to X and y\n",
    "X = fifa_2018_df[[\"age\", \"age2\", \"overall\", \"potential\", \"international_reputation\", \"skill_moves\", \"pace\", \"shooting\", \"passing\", \"dribbling\", \"defending\",\"physic\"]]\n",
    "y = fifa_2018_df[\"log_wage\"].values.reshape(-1, 1)\n",
    "print(X.shape, y.shape)"
   ]
  },
  {
   "cell_type": "code",
   "execution_count": 6,
   "metadata": {},
   "outputs": [],
   "source": [
    "# Use train_test_split to create training and testing data\n",
    "\n",
    "### BEGIN SOLUTION\n",
    "from sklearn.model_selection import train_test_split\n",
    "\n",
    "X_train, X_test, y_train, y_test = train_test_split(X, y)\n",
    "\n",
    "### END SOLUTION"
   ]
  },
  {
   "cell_type": "code",
   "execution_count": 7,
   "metadata": {},
   "outputs": [],
   "source": [
    "# Create the model using LinearRegression\n",
    "\n",
    "### BEGIN SOLUTION\n",
    "from sklearn.linear_model import LinearRegression\n",
    "model = LinearRegression()\n",
    "### END SOLUTION"
   ]
  },
  {
   "cell_type": "code",
   "execution_count": 8,
   "metadata": {},
   "outputs": [
    {
     "name": "stdout",
     "output_type": "stream",
     "text": [
      "Training Score: 0.5852630059269668\n",
      "Testing Score: 0.6137552996555373\n"
     ]
    }
   ],
   "source": [
    "# Fit the model to the training data and calculate the scores for the training and testing data\n",
    "\n",
    "### BEGIN SOLUTION\n",
    "model.fit(X_train, y_train)\n",
    "training_score = model.score(X_train, y_train)\n",
    "testing_score = model.score(X_test, y_test)\n",
    "\n",
    "### END SOLUTION \n",
    "\n",
    "print(f\"Training Score: {training_score}\")\n",
    "print(f\"Testing Score: {testing_score}\")"
   ]
  },
  {
   "cell_type": "code",
   "execution_count": 9,
   "metadata": {},
   "outputs": [],
   "source": [
    "import matplotlib.lines as mlines\n",
    "import matplotlib.transforms as mtransforms"
   ]
  },
  {
   "cell_type": "code",
   "execution_count": 10,
   "metadata": {},
   "outputs": [
    {
     "data": {
      "image/png": "[encoded data removed]",
      "text/plain": [
       "<Figure size 432x288 with 1 Axes>"
      ]
     },
     "metadata": {
      "needs_background": "light"
     },
     "output_type": "display_data"
    }
   ],
   "source": [
    "#We plot predicted against actual (log) Wages.\n",
    "fig, ax = plt.subplots()\n",
    "ax.scatter(model.predict(X), y, c='darkviolet', alpha=0.25)\n",
    "plt.axis([8.5, 13.5, 8.5, 13.5])\n",
    "line = mlines.Line2D([0, 14], [0, 14], color='black', label='45° line')\n",
    "transform = ax.transAxes\n",
    "line.set_transform(transform)\n",
    "ax.add_line(line)\n",
    "plt.title(\"Predicted vs Actual (Log) Wages (Multiple linear regresion)\")\n",
    "plt.xlabel(\"Predicted log wage\")\n",
    "plt.ylabel(\"Actual log wage\")\n",
    "plt.grid(linestyle='-', alpha=0.3)\n",
    "leg = ax.legend();\n",
    "\n",
    "# Save Figure\n",
    "plt.savefig(\"Wages_LR.png\")\n",
    "\n",
    "# Prints the scatter plot to the screen\n",
    "plt.show()"
   ]
  },
  {
   "cell_type": "code",
   "execution_count": 11,
   "metadata": {},
   "outputs": [],
   "source": [
    "predic=model.predict(X)\n",
    "fifa_2018_df['predic'] = predic \n",
    "fifa_2018_df=fifa_2018_df.loc[fifa_2018_df['wage_eur']>250000]\n"
   ]
  },
  {
   "cell_type": "code",
   "execution_count": 17,
   "metadata": {},
   "outputs": [
    {
     "data": {
      "text/plain": [
       "<Figure size 432x288 with 0 Axes>"
      ]
     },
     "metadata": {},
     "output_type": "display_data"
    },
    {
     "data": {
      "image/png": "[encoded data removed]",
      "text/plain": [
       "<Figure size 432x288 with 1 Axes>"
      ]
     },
     "metadata": {
      "needs_background": "light"
     },
     "output_type": "display_data"
    }
   ],
   "source": [
    "#Labeling data points to understand better what's going on\n",
    "plt.clf()\n",
    "xs = fifa_2018_df[\"predic\"]\n",
    "ys = fifa_2018_df[\"log_wage\"]\n",
    "fig, ax = plt.subplots()\n",
    "# 'bo-' means blue color, round points, solid lines\n",
    "plt.scatter(xs,ys, marker=\"o\", facecolors=\"red\", alpha=0.75, s=75)\n",
    "plt.grid(linestyle='-', alpha=0.3)\n",
    "plt.title(\"Top 18 wages\")\n",
    "plt.xlabel(\"Predicted wages top 18\")\n",
    "plt.ylabel(\"Actual wages top 18\")\n",
    "abreviaturas=[\"CR7\", \"Messi\", \"Suarez\",\"Bale\", \"Lewan\",\"Kroos\",\"Modric\",\"Aguero\", \"Ramos\",\"Hazard\",\"Benzema\", \"Bruyne\", \"Neymar\", \"Hig\", \"Rak\", \"Alexis\" , \"Ozil\"]\n",
    "\n",
    "plt.axis([11.85, 13.05, 12.4, 13.35])\n",
    "\n",
    "\n",
    "#Labeling dots\n",
    "i=0\n",
    "# zip joins x and y coordinates in pairs\n",
    "for x,y in zip(xs,ys):\n",
    "\n",
    "    label = abreviaturas[i]\n",
    "\n",
    "    plt.annotate(label, # this is the text\n",
    "                 (x,y), # this is the point to label\n",
    "                 textcoords=\"offset points\", # how to position the text\n",
    "                 xytext=(0,5), # distance from text to points (x,y)\n",
    "                 ha='center') # horizontal alignment can be left, right or center\n",
    "    i=i+1 \n",
    "\n",
    "# Save Figure\n",
    "\n",
    "plt.savefig(\"nombres_top_wages.png\")\n",
    "plt.show()"
   ]
  },
  {
   "cell_type": "code",
   "execution_count": null,
   "metadata": {},
   "outputs": [],
   "source": []
  }
 ],
 "metadata": {
  "kernelspec": {
   "display_name": "Python 3",
   "language": "python",
   "name": "python3"
  },
  "language_info": {
   "codemirror_mode": {
    "name": "ipython",
    "version": 3
   },
   "file_extension": ".py",
   "mimetype": "text/x-python",
   "name": "python",
   "nbconvert_exporter": "python",
   "pygments_lexer": "ipython3",
   "version": "3.7.3"
  }
 },
 "nbformat": 4,
 "nbformat_minor": 2
}
